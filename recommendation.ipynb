{
 "cells": [
  {
   "cell_type": "code",
   "execution_count": null,
   "id": "8e34ac28-5439-445e-8f19-7928583c089e",
   "metadata": {},
   "outputs": [],
   "source": [
    "# Book recommender"
   ]
  },
  {
   "cell_type": "markdown",
   "id": "24cf5b2e-a3fa-459a-b00f-18969f5f8b73",
   "metadata": {},
   "source": [
    "# Explore dataset"
   ]
  },
  {
   "cell_type": "code",
   "execution_count": 1,
   "id": "29969842-dc32-41ee-82ad-5a4e62230d1b",
   "metadata": {
    "execution": {
     "iopub.execute_input": "2025-05-12T10:33:48.891911Z",
     "iopub.status.busy": "2025-05-12T10:33:48.891407Z",
     "iopub.status.idle": "2025-05-12T10:33:49.196651Z",
     "shell.execute_reply": "2025-05-12T10:33:49.196098Z",
     "shell.execute_reply.started": "2025-05-12T10:33:48.891881Z"
    }
   },
   "outputs": [],
   "source": [
    "import pandas as pd"
   ]
  },
  {
   "cell_type": "code",
   "execution_count": 2,
   "id": "47669a86-cfdd-43b6-8001-f228085c69ee",
   "metadata": {
    "execution": {
     "iopub.execute_input": "2025-05-12T10:33:49.865796Z",
     "iopub.status.busy": "2025-05-12T10:33:49.865266Z",
     "iopub.status.idle": "2025-05-12T10:33:51.273209Z",
     "shell.execute_reply": "2025-05-12T10:33:51.272602Z",
     "shell.execute_reply.started": "2025-05-12T10:33:49.865773Z"
    }
   },
   "outputs": [
    {
     "name": "stderr",
     "output_type": "stream",
     "text": [
      "/tmp/ipykernel_3881/17673897.py:5: DtypeWarning: Columns (3) have mixed types. Specify dtype option on import or set low_memory=False.\n",
      "  books_df = pd.read_csv('./Books.csv')\n"
     ]
    }
   ],
   "source": [
    "users_csv_path = './Users.csv'\n",
    "ratings_csv_path = './Ratings.csv'\n",
    "users_df = pd.read_csv(users_csv_path)\n",
    "ratings_df = pd.read_csv(ratings_csv_path)\n",
    "books_df = pd.read_csv('./Books.csv')"
   ]
  },
  {
   "cell_type": "code",
   "execution_count": 14,
   "id": "624097eb-3059-421a-9067-1c412a189e77",
   "metadata": {
    "execution": {
     "iopub.execute_input": "2025-05-12T10:36:14.032895Z",
     "iopub.status.busy": "2025-05-12T10:36:14.032245Z",
     "iopub.status.idle": "2025-05-12T10:36:14.169273Z",
     "shell.execute_reply": "2025-05-12T10:36:14.168717Z",
     "shell.execute_reply.started": "2025-05-12T10:36:14.032874Z"
    }
   },
   "outputs": [
    {
     "data": {
      "text/plain": [
       "<Axes: ylabel='Frequency'>"
      ]
     },
     "execution_count": 14,
     "metadata": {},
     "output_type": "execute_result"
    },
    {
     "data": {
      "image/png": "[encoded data removed]",
      "text/plain": [
       "<Figure size 640x480 with 1 Axes>"
      ]
     },
     "metadata": {},
     "output_type": "display_data"
    }
   ],
   "source": [
    "ratings_df['Book-Rating'].plot(kind='hist')"
   ]
  },
  {
   "cell_type": "code",
   "execution_count": 42,
   "id": "25c7f6bc-ee15-4cf5-bb2a-7a85b357e0fa",
   "metadata": {
    "execution": {
     "iopub.execute_input": "2025-05-12T10:47:45.719688Z",
     "iopub.status.busy": "2025-05-12T10:47:45.719291Z",
     "iopub.status.idle": "2025-05-12T10:47:45.731122Z",
     "shell.execute_reply": "2025-05-12T10:47:45.730372Z",
     "shell.execute_reply.started": "2025-05-12T10:47:45.719659Z"
    }
   },
   "outputs": [
    {
     "data": {
      "text/html": [
       "<div>\n",
       "<style scoped>\n",
       "    .dataframe tbody tr th:only-of-type {\n",
       "        vertical-align: middle;\n",
       "    }\n",
       "\n",
       "    .dataframe tbody tr th {\n",
       "        vertical-align: top;\n",
       "    }\n",
       "\n",
       "    .dataframe thead th {\n",
       "        text-align: right;\n",
       "    }\n",
       "</style>\n",
       "<table border=\"1\" class=\"dataframe\">\n",
       "  <thead>\n",
       "    <tr style=\"text-align: right;\">\n",
       "      <th></th>\n",
       "      <th>User-ID</th>\n",
       "      <th>ISBN</th>\n",
       "      <th>Book-Rating</th>\n",
       "    </tr>\n",
       "  </thead>\n",
       "  <tbody>\n",
       "    <tr>\n",
       "      <th>45326</th>\n",
       "      <td>11676</td>\n",
       "      <td>9022906116</td>\n",
       "      <td>7</td>\n",
       "    </tr>\n",
       "    <tr>\n",
       "      <th>45327</th>\n",
       "      <td>11676</td>\n",
       "      <td>\\0432534220\\\"\"</td>\n",
       "      <td>6</td>\n",
       "    </tr>\n",
       "    <tr>\n",
       "      <th>45328</th>\n",
       "      <td>11676</td>\n",
       "      <td>\\2842053052\\\"\"</td>\n",
       "      <td>7</td>\n",
       "    </tr>\n",
       "    <tr>\n",
       "      <th>45329</th>\n",
       "      <td>11676</td>\n",
       "      <td>0 7336 1053 6</td>\n",
       "      <td>0</td>\n",
       "    </tr>\n",
       "    <tr>\n",
       "      <th>45330</th>\n",
       "      <td>11676</td>\n",
       "      <td>0=965044153</td>\n",
       "      <td>7</td>\n",
       "    </tr>\n",
       "    <tr>\n",
       "      <th>...</th>\n",
       "      <td>...</td>\n",
       "      <td>...</td>\n",
       "      <td>...</td>\n",
       "    </tr>\n",
       "    <tr>\n",
       "      <th>58923</th>\n",
       "      <td>11676</td>\n",
       "      <td>O77O428452</td>\n",
       "      <td>0</td>\n",
       "    </tr>\n",
       "    <tr>\n",
       "      <th>58924</th>\n",
       "      <td>11676</td>\n",
       "      <td>O805063196</td>\n",
       "      <td>0</td>\n",
       "    </tr>\n",
       "    <tr>\n",
       "      <th>58925</th>\n",
       "      <td>11676</td>\n",
       "      <td>O9088446X</td>\n",
       "      <td>8</td>\n",
       "    </tr>\n",
       "    <tr>\n",
       "      <th>58926</th>\n",
       "      <td>11676</td>\n",
       "      <td>X000000000</td>\n",
       "      <td>10</td>\n",
       "    </tr>\n",
       "    <tr>\n",
       "      <th>58927</th>\n",
       "      <td>11676</td>\n",
       "      <td>ZR903CX0003</td>\n",
       "      <td>1</td>\n",
       "    </tr>\n",
       "  </tbody>\n",
       "</table>\n",
       "<p>13602 rows × 3 columns</p>\n",
       "</div>"
      ],
      "text/plain": [
       "       User-ID            ISBN  Book-Rating\n",
       "45326    11676      9022906116            7\n",
       "45327    11676  \\0432534220\\\"\"            6\n",
       "45328    11676  \\2842053052\\\"\"            7\n",
       "45329    11676   0 7336 1053 6            0\n",
       "45330    11676     0=965044153            7\n",
       "...        ...             ...          ...\n",
       "58923    11676      O77O428452            0\n",
       "58924    11676      O805063196            0\n",
       "58925    11676       O9088446X            8\n",
       "58926    11676      X000000000           10\n",
       "58927    11676     ZR903CX0003            1\n",
       "\n",
       "[13602 rows x 3 columns]"
      ]
     },
     "execution_count": 42,
     "metadata": {},
     "output_type": "execute_result"
    }
   ],
   "source": [
    "ratings_df[ratings_df['User-ID'] == 11676]"
   ]
  },
  {
   "cell_type": "code",
   "execution_count": 18,
   "id": "de592598-acb4-4f6c-9571-fa81b9e731ee",
   "metadata": {
    "execution": {
     "iopub.execute_input": "2025-05-12T10:38:24.397905Z",
     "iopub.status.busy": "2025-05-12T10:38:24.397541Z",
     "iopub.status.idle": "2025-05-12T10:38:24.626350Z",
     "shell.execute_reply": "2025-05-12T10:38:24.625489Z",
     "shell.execute_reply.started": "2025-05-12T10:38:24.397885Z"
    },
    "scrolled": true
   },
   "outputs": [
    {
     "ename": "TypeError",
     "evalue": "agg function failed [how->mean,dtype->object]",
     "output_type": "error",
     "traceback": [
      "\u001b[0;31m---------------------------------------------------------------------------\u001b[0m",
      "\u001b[0;31mTypeError\u001b[0m                                 Traceback (most recent call last)",
      "File \u001b[0;32m~/envs/jupyter/lib/python3.11/site-packages/pandas/core/groupby/groupby.py:1942\u001b[0m, in \u001b[0;36mGroupBy._agg_py_fallback\u001b[0;34m(self, how, values, ndim, alt)\u001b[0m\n\u001b[1;32m   1941\u001b[0m \u001b[38;5;28;01mtry\u001b[39;00m:\n\u001b[0;32m-> 1942\u001b[0m     res_values \u001b[38;5;241m=\u001b[39m \u001b[38;5;28;43mself\u001b[39;49m\u001b[38;5;241;43m.\u001b[39;49m\u001b[43m_grouper\u001b[49m\u001b[38;5;241;43m.\u001b[39;49m\u001b[43magg_series\u001b[49m\u001b[43m(\u001b[49m\u001b[43mser\u001b[49m\u001b[43m,\u001b[49m\u001b[43m \u001b[49m\u001b[43malt\u001b[49m\u001b[43m,\u001b[49m\u001b[43m \u001b[49m\u001b[43mpreserve_dtype\u001b[49m\u001b[38;5;241;43m=\u001b[39;49m\u001b[38;5;28;43;01mTrue\u001b[39;49;00m\u001b[43m)\u001b[49m\n\u001b[1;32m   1943\u001b[0m \u001b[38;5;28;01mexcept\u001b[39;00m \u001b[38;5;167;01mException\u001b[39;00m \u001b[38;5;28;01mas\u001b[39;00m err:\n",
      "File \u001b[0;32m~/envs/jupyter/lib/python3.11/site-packages/pandas/core/groupby/ops.py:864\u001b[0m, in \u001b[0;36mBaseGrouper.agg_series\u001b[0;34m(self, obj, func, preserve_dtype)\u001b[0m\n\u001b[1;32m    862\u001b[0m     preserve_dtype \u001b[38;5;241m=\u001b[39m \u001b[38;5;28;01mTrue\u001b[39;00m\n\u001b[0;32m--> 864\u001b[0m result \u001b[38;5;241m=\u001b[39m \u001b[38;5;28;43mself\u001b[39;49m\u001b[38;5;241;43m.\u001b[39;49m\u001b[43m_aggregate_series_pure_python\u001b[49m\u001b[43m(\u001b[49m\u001b[43mobj\u001b[49m\u001b[43m,\u001b[49m\u001b[43m \u001b[49m\u001b[43mfunc\u001b[49m\u001b[43m)\u001b[49m\n\u001b[1;32m    866\u001b[0m npvalues \u001b[38;5;241m=\u001b[39m lib\u001b[38;5;241m.\u001b[39mmaybe_convert_objects(result, try_float\u001b[38;5;241m=\u001b[39m\u001b[38;5;28;01mFalse\u001b[39;00m)\n",
      "File \u001b[0;32m~/envs/jupyter/lib/python3.11/site-packages/pandas/core/groupby/ops.py:885\u001b[0m, in \u001b[0;36mBaseGrouper._aggregate_series_pure_python\u001b[0;34m(self, obj, func)\u001b[0m\n\u001b[1;32m    884\u001b[0m \u001b[38;5;28;01mfor\u001b[39;00m i, group \u001b[38;5;129;01min\u001b[39;00m \u001b[38;5;28menumerate\u001b[39m(splitter):\n\u001b[0;32m--> 885\u001b[0m     res \u001b[38;5;241m=\u001b[39m \u001b[43mfunc\u001b[49m\u001b[43m(\u001b[49m\u001b[43mgroup\u001b[49m\u001b[43m)\u001b[49m\n\u001b[1;32m    886\u001b[0m     res \u001b[38;5;241m=\u001b[39m extract_result(res)\n",
      "File \u001b[0;32m~/envs/jupyter/lib/python3.11/site-packages/pandas/core/groupby/groupby.py:2454\u001b[0m, in \u001b[0;36mGroupBy.mean.<locals>.<lambda>\u001b[0;34m(x)\u001b[0m\n\u001b[1;32m   2451\u001b[0m \u001b[38;5;28;01melse\u001b[39;00m:\n\u001b[1;32m   2452\u001b[0m     result \u001b[38;5;241m=\u001b[39m \u001b[38;5;28mself\u001b[39m\u001b[38;5;241m.\u001b[39m_cython_agg_general(\n\u001b[1;32m   2453\u001b[0m         \u001b[38;5;124m\"\u001b[39m\u001b[38;5;124mmean\u001b[39m\u001b[38;5;124m\"\u001b[39m,\n\u001b[0;32m-> 2454\u001b[0m         alt\u001b[38;5;241m=\u001b[39m\u001b[38;5;28;01mlambda\u001b[39;00m x: \u001b[43mSeries\u001b[49m\u001b[43m(\u001b[49m\u001b[43mx\u001b[49m\u001b[43m,\u001b[49m\u001b[43m \u001b[49m\u001b[43mcopy\u001b[49m\u001b[38;5;241;43m=\u001b[39;49m\u001b[38;5;28;43;01mFalse\u001b[39;49;00m\u001b[43m)\u001b[49m\u001b[38;5;241;43m.\u001b[39;49m\u001b[43mmean\u001b[49m\u001b[43m(\u001b[49m\u001b[43mnumeric_only\u001b[49m\u001b[38;5;241;43m=\u001b[39;49m\u001b[43mnumeric_only\u001b[49m\u001b[43m)\u001b[49m,\n\u001b[1;32m   2455\u001b[0m         numeric_only\u001b[38;5;241m=\u001b[39mnumeric_only,\n\u001b[1;32m   2456\u001b[0m     )\n\u001b[1;32m   2457\u001b[0m     \u001b[38;5;28;01mreturn\u001b[39;00m result\u001b[38;5;241m.\u001b[39m__finalize__(\u001b[38;5;28mself\u001b[39m\u001b[38;5;241m.\u001b[39mobj, method\u001b[38;5;241m=\u001b[39m\u001b[38;5;124m\"\u001b[39m\u001b[38;5;124mgroupby\u001b[39m\u001b[38;5;124m\"\u001b[39m)\n",
      "File \u001b[0;32m~/envs/jupyter/lib/python3.11/site-packages/pandas/core/series.py:6549\u001b[0m, in \u001b[0;36mSeries.mean\u001b[0;34m(self, axis, skipna, numeric_only, **kwargs)\u001b[0m\n\u001b[1;32m   6541\u001b[0m \u001b[38;5;129m@doc\u001b[39m(make_doc(\u001b[38;5;124m\"\u001b[39m\u001b[38;5;124mmean\u001b[39m\u001b[38;5;124m\"\u001b[39m, ndim\u001b[38;5;241m=\u001b[39m\u001b[38;5;241m1\u001b[39m))\n\u001b[1;32m   6542\u001b[0m \u001b[38;5;28;01mdef\u001b[39;00m\u001b[38;5;250m \u001b[39m\u001b[38;5;21mmean\u001b[39m(\n\u001b[1;32m   6543\u001b[0m     \u001b[38;5;28mself\u001b[39m,\n\u001b[0;32m   (...)\u001b[0m\n\u001b[1;32m   6547\u001b[0m     \u001b[38;5;241m*\u001b[39m\u001b[38;5;241m*\u001b[39mkwargs,\n\u001b[1;32m   6548\u001b[0m ):\n\u001b[0;32m-> 6549\u001b[0m     \u001b[38;5;28;01mreturn\u001b[39;00m \u001b[43mNDFrame\u001b[49m\u001b[38;5;241;43m.\u001b[39;49m\u001b[43mmean\u001b[49m\u001b[43m(\u001b[49m\u001b[38;5;28;43mself\u001b[39;49m\u001b[43m,\u001b[49m\u001b[43m \u001b[49m\u001b[43maxis\u001b[49m\u001b[43m,\u001b[49m\u001b[43m \u001b[49m\u001b[43mskipna\u001b[49m\u001b[43m,\u001b[49m\u001b[43m \u001b[49m\u001b[43mnumeric_only\u001b[49m\u001b[43m,\u001b[49m\u001b[43m \u001b[49m\u001b[38;5;241;43m*\u001b[39;49m\u001b[38;5;241;43m*\u001b[39;49m\u001b[43mkwargs\u001b[49m\u001b[43m)\u001b[49m\n",
      "File \u001b[0;32m~/envs/jupyter/lib/python3.11/site-packages/pandas/core/generic.py:12420\u001b[0m, in \u001b[0;36mNDFrame.mean\u001b[0;34m(self, axis, skipna, numeric_only, **kwargs)\u001b[0m\n\u001b[1;32m  12413\u001b[0m \u001b[38;5;28;01mdef\u001b[39;00m\u001b[38;5;250m \u001b[39m\u001b[38;5;21mmean\u001b[39m(\n\u001b[1;32m  12414\u001b[0m     \u001b[38;5;28mself\u001b[39m,\n\u001b[1;32m  12415\u001b[0m     axis: Axis \u001b[38;5;241m|\u001b[39m \u001b[38;5;28;01mNone\u001b[39;00m \u001b[38;5;241m=\u001b[39m \u001b[38;5;241m0\u001b[39m,\n\u001b[0;32m   (...)\u001b[0m\n\u001b[1;32m  12418\u001b[0m     \u001b[38;5;241m*\u001b[39m\u001b[38;5;241m*\u001b[39mkwargs,\n\u001b[1;32m  12419\u001b[0m ) \u001b[38;5;241m-\u001b[39m\u001b[38;5;241m>\u001b[39m Series \u001b[38;5;241m|\u001b[39m \u001b[38;5;28mfloat\u001b[39m:\n\u001b[0;32m> 12420\u001b[0m     \u001b[38;5;28;01mreturn\u001b[39;00m \u001b[38;5;28;43mself\u001b[39;49m\u001b[38;5;241;43m.\u001b[39;49m\u001b[43m_stat_function\u001b[49m\u001b[43m(\u001b[49m\n\u001b[1;32m  12421\u001b[0m \u001b[43m        \u001b[49m\u001b[38;5;124;43m\"\u001b[39;49m\u001b[38;5;124;43mmean\u001b[39;49m\u001b[38;5;124;43m\"\u001b[39;49m\u001b[43m,\u001b[49m\u001b[43m \u001b[49m\u001b[43mnanops\u001b[49m\u001b[38;5;241;43m.\u001b[39;49m\u001b[43mnanmean\u001b[49m\u001b[43m,\u001b[49m\u001b[43m \u001b[49m\u001b[43maxis\u001b[49m\u001b[43m,\u001b[49m\u001b[43m \u001b[49m\u001b[43mskipna\u001b[49m\u001b[43m,\u001b[49m\u001b[43m \u001b[49m\u001b[43mnumeric_only\u001b[49m\u001b[43m,\u001b[49m\u001b[43m \u001b[49m\u001b[38;5;241;43m*\u001b[39;49m\u001b[38;5;241;43m*\u001b[39;49m\u001b[43mkwargs\u001b[49m\n\u001b[1;32m  12422\u001b[0m \u001b[43m    \u001b[49m\u001b[43m)\u001b[49m\n",
      "File \u001b[0;32m~/envs/jupyter/lib/python3.11/site-packages/pandas/core/generic.py:12377\u001b[0m, in \u001b[0;36mNDFrame._stat_function\u001b[0;34m(self, name, func, axis, skipna, numeric_only, **kwargs)\u001b[0m\n\u001b[1;32m  12375\u001b[0m validate_bool_kwarg(skipna, \u001b[38;5;124m\"\u001b[39m\u001b[38;5;124mskipna\u001b[39m\u001b[38;5;124m\"\u001b[39m, none_allowed\u001b[38;5;241m=\u001b[39m\u001b[38;5;28;01mFalse\u001b[39;00m)\n\u001b[0;32m> 12377\u001b[0m \u001b[38;5;28;01mreturn\u001b[39;00m \u001b[38;5;28;43mself\u001b[39;49m\u001b[38;5;241;43m.\u001b[39;49m\u001b[43m_reduce\u001b[49m\u001b[43m(\u001b[49m\n\u001b[1;32m  12378\u001b[0m \u001b[43m    \u001b[49m\u001b[43mfunc\u001b[49m\u001b[43m,\u001b[49m\u001b[43m \u001b[49m\u001b[43mname\u001b[49m\u001b[38;5;241;43m=\u001b[39;49m\u001b[43mname\u001b[49m\u001b[43m,\u001b[49m\u001b[43m \u001b[49m\u001b[43maxis\u001b[49m\u001b[38;5;241;43m=\u001b[39;49m\u001b[43maxis\u001b[49m\u001b[43m,\u001b[49m\u001b[43m \u001b[49m\u001b[43mskipna\u001b[49m\u001b[38;5;241;43m=\u001b[39;49m\u001b[43mskipna\u001b[49m\u001b[43m,\u001b[49m\u001b[43m \u001b[49m\u001b[43mnumeric_only\u001b[49m\u001b[38;5;241;43m=\u001b[39;49m\u001b[43mnumeric_only\u001b[49m\n\u001b[1;32m  12379\u001b[0m \u001b[43m\u001b[49m\u001b[43m)\u001b[49m\n",
      "File \u001b[0;32m~/envs/jupyter/lib/python3.11/site-packages/pandas/core/series.py:6457\u001b[0m, in \u001b[0;36mSeries._reduce\u001b[0;34m(self, op, name, axis, skipna, numeric_only, filter_type, **kwds)\u001b[0m\n\u001b[1;32m   6453\u001b[0m     \u001b[38;5;28;01mraise\u001b[39;00m \u001b[38;5;167;01mTypeError\u001b[39;00m(\n\u001b[1;32m   6454\u001b[0m         \u001b[38;5;124mf\u001b[39m\u001b[38;5;124m\"\u001b[39m\u001b[38;5;124mSeries.\u001b[39m\u001b[38;5;132;01m{\u001b[39;00mname\u001b[38;5;132;01m}\u001b[39;00m\u001b[38;5;124m does not allow \u001b[39m\u001b[38;5;132;01m{\u001b[39;00mkwd_name\u001b[38;5;132;01m}\u001b[39;00m\u001b[38;5;124m=\u001b[39m\u001b[38;5;132;01m{\u001b[39;00mnumeric_only\u001b[38;5;132;01m}\u001b[39;00m\u001b[38;5;124m \u001b[39m\u001b[38;5;124m\"\u001b[39m\n\u001b[1;32m   6455\u001b[0m         \u001b[38;5;124m\"\u001b[39m\u001b[38;5;124mwith non-numeric dtypes.\u001b[39m\u001b[38;5;124m\"\u001b[39m\n\u001b[1;32m   6456\u001b[0m     )\n\u001b[0;32m-> 6457\u001b[0m \u001b[38;5;28;01mreturn\u001b[39;00m \u001b[43mop\u001b[49m\u001b[43m(\u001b[49m\u001b[43mdelegate\u001b[49m\u001b[43m,\u001b[49m\u001b[43m \u001b[49m\u001b[43mskipna\u001b[49m\u001b[38;5;241;43m=\u001b[39;49m\u001b[43mskipna\u001b[49m\u001b[43m,\u001b[49m\u001b[43m \u001b[49m\u001b[38;5;241;43m*\u001b[39;49m\u001b[38;5;241;43m*\u001b[39;49m\u001b[43mkwds\u001b[49m\u001b[43m)\u001b[49m\n",
      "File \u001b[0;32m~/envs/jupyter/lib/python3.11/site-packages/pandas/core/nanops.py:147\u001b[0m, in \u001b[0;36mbottleneck_switch.__call__.<locals>.f\u001b[0;34m(values, axis, skipna, **kwds)\u001b[0m\n\u001b[1;32m    146\u001b[0m \u001b[38;5;28;01melse\u001b[39;00m:\n\u001b[0;32m--> 147\u001b[0m     result \u001b[38;5;241m=\u001b[39m \u001b[43malt\u001b[49m\u001b[43m(\u001b[49m\u001b[43mvalues\u001b[49m\u001b[43m,\u001b[49m\u001b[43m \u001b[49m\u001b[43maxis\u001b[49m\u001b[38;5;241;43m=\u001b[39;49m\u001b[43maxis\u001b[49m\u001b[43m,\u001b[49m\u001b[43m \u001b[49m\u001b[43mskipna\u001b[49m\u001b[38;5;241;43m=\u001b[39;49m\u001b[43mskipna\u001b[49m\u001b[43m,\u001b[49m\u001b[43m \u001b[49m\u001b[38;5;241;43m*\u001b[39;49m\u001b[38;5;241;43m*\u001b[39;49m\u001b[43mkwds\u001b[49m\u001b[43m)\u001b[49m\n\u001b[1;32m    149\u001b[0m \u001b[38;5;28;01mreturn\u001b[39;00m result\n",
      "File \u001b[0;32m~/envs/jupyter/lib/python3.11/site-packages/pandas/core/nanops.py:404\u001b[0m, in \u001b[0;36m_datetimelike_compat.<locals>.new_func\u001b[0;34m(values, axis, skipna, mask, **kwargs)\u001b[0m\n\u001b[1;32m    402\u001b[0m     mask \u001b[38;5;241m=\u001b[39m isna(values)\n\u001b[0;32m--> 404\u001b[0m result \u001b[38;5;241m=\u001b[39m \u001b[43mfunc\u001b[49m\u001b[43m(\u001b[49m\u001b[43mvalues\u001b[49m\u001b[43m,\u001b[49m\u001b[43m \u001b[49m\u001b[43maxis\u001b[49m\u001b[38;5;241;43m=\u001b[39;49m\u001b[43maxis\u001b[49m\u001b[43m,\u001b[49m\u001b[43m \u001b[49m\u001b[43mskipna\u001b[49m\u001b[38;5;241;43m=\u001b[39;49m\u001b[43mskipna\u001b[49m\u001b[43m,\u001b[49m\u001b[43m \u001b[49m\u001b[43mmask\u001b[49m\u001b[38;5;241;43m=\u001b[39;49m\u001b[43mmask\u001b[49m\u001b[43m,\u001b[49m\u001b[43m \u001b[49m\u001b[38;5;241;43m*\u001b[39;49m\u001b[38;5;241;43m*\u001b[39;49m\u001b[43mkwargs\u001b[49m\u001b[43m)\u001b[49m\n\u001b[1;32m    406\u001b[0m \u001b[38;5;28;01mif\u001b[39;00m datetimelike:\n",
      "File \u001b[0;32m~/envs/jupyter/lib/python3.11/site-packages/pandas/core/nanops.py:720\u001b[0m, in \u001b[0;36mnanmean\u001b[0;34m(values, axis, skipna, mask)\u001b[0m\n\u001b[1;32m    719\u001b[0m the_sum \u001b[38;5;241m=\u001b[39m values\u001b[38;5;241m.\u001b[39msum(axis, dtype\u001b[38;5;241m=\u001b[39mdtype_sum)\n\u001b[0;32m--> 720\u001b[0m the_sum \u001b[38;5;241m=\u001b[39m \u001b[43m_ensure_numeric\u001b[49m\u001b[43m(\u001b[49m\u001b[43mthe_sum\u001b[49m\u001b[43m)\u001b[49m\n\u001b[1;32m    722\u001b[0m \u001b[38;5;28;01mif\u001b[39;00m axis \u001b[38;5;129;01mis\u001b[39;00m \u001b[38;5;129;01mnot\u001b[39;00m \u001b[38;5;28;01mNone\u001b[39;00m \u001b[38;5;129;01mand\u001b[39;00m \u001b[38;5;28mgetattr\u001b[39m(the_sum, \u001b[38;5;124m\"\u001b[39m\u001b[38;5;124mndim\u001b[39m\u001b[38;5;124m\"\u001b[39m, \u001b[38;5;28;01mFalse\u001b[39;00m):\n",
      "File \u001b[0;32m~/envs/jupyter/lib/python3.11/site-packages/pandas/core/nanops.py:1701\u001b[0m, in \u001b[0;36m_ensure_numeric\u001b[0;34m(x)\u001b[0m\n\u001b[1;32m   1699\u001b[0m \u001b[38;5;28;01mif\u001b[39;00m \u001b[38;5;28misinstance\u001b[39m(x, \u001b[38;5;28mstr\u001b[39m):\n\u001b[1;32m   1700\u001b[0m     \u001b[38;5;66;03m# GH#44008, GH#36703 avoid casting e.g. strings to numeric\u001b[39;00m\n\u001b[0;32m-> 1701\u001b[0m     \u001b[38;5;28;01mraise\u001b[39;00m \u001b[38;5;167;01mTypeError\u001b[39;00m(\u001b[38;5;124mf\u001b[39m\u001b[38;5;124m\"\u001b[39m\u001b[38;5;124mCould not convert string \u001b[39m\u001b[38;5;124m'\u001b[39m\u001b[38;5;132;01m{\u001b[39;00mx\u001b[38;5;132;01m}\u001b[39;00m\u001b[38;5;124m'\u001b[39m\u001b[38;5;124m to numeric\u001b[39m\u001b[38;5;124m\"\u001b[39m)\n\u001b[1;32m   1702\u001b[0m \u001b[38;5;28;01mtry\u001b[39;00m:\n",
      "\u001b[0;31mTypeError\u001b[0m: Could not convert string '0312956762' to numeric",
      "\nThe above exception was the direct cause of the following exception:\n",
      "\u001b[0;31mTypeError\u001b[0m                                 Traceback (most recent call last)",
      "Cell \u001b[0;32mIn[18], line 2\u001b[0m\n\u001b[1;32m      1\u001b[0m \u001b[38;5;66;03m# visualize how many books per author\u001b[39;00m\n\u001b[0;32m----> 2\u001b[0m \u001b[43mbooks_df\u001b[49m\u001b[38;5;241;43m.\u001b[39;49m\u001b[43mgroupby\u001b[49m\u001b[43m(\u001b[49m\u001b[38;5;124;43m'\u001b[39;49m\u001b[38;5;124;43mBook-Author\u001b[39;49m\u001b[38;5;124;43m'\u001b[39;49m\u001b[43m)\u001b[49m\u001b[38;5;241;43m.\u001b[39;49m\u001b[43mmean\u001b[49m\u001b[43m(\u001b[49m\u001b[43m)\u001b[49m\u001b[38;5;241m.\u001b[39mplot()\n",
      "File \u001b[0;32m~/envs/jupyter/lib/python3.11/site-packages/pandas/core/groupby/groupby.py:2452\u001b[0m, in \u001b[0;36mGroupBy.mean\u001b[0;34m(self, numeric_only, engine, engine_kwargs)\u001b[0m\n\u001b[1;32m   2445\u001b[0m     \u001b[38;5;28;01mreturn\u001b[39;00m \u001b[38;5;28mself\u001b[39m\u001b[38;5;241m.\u001b[39m_numba_agg_general(\n\u001b[1;32m   2446\u001b[0m         grouped_mean,\n\u001b[1;32m   2447\u001b[0m         executor\u001b[38;5;241m.\u001b[39mfloat_dtype_mapping,\n\u001b[1;32m   2448\u001b[0m         engine_kwargs,\n\u001b[1;32m   2449\u001b[0m         min_periods\u001b[38;5;241m=\u001b[39m\u001b[38;5;241m0\u001b[39m,\n\u001b[1;32m   2450\u001b[0m     )\n\u001b[1;32m   2451\u001b[0m \u001b[38;5;28;01melse\u001b[39;00m:\n\u001b[0;32m-> 2452\u001b[0m     result \u001b[38;5;241m=\u001b[39m \u001b[38;5;28;43mself\u001b[39;49m\u001b[38;5;241;43m.\u001b[39;49m\u001b[43m_cython_agg_general\u001b[49m\u001b[43m(\u001b[49m\n\u001b[1;32m   2453\u001b[0m \u001b[43m        \u001b[49m\u001b[38;5;124;43m\"\u001b[39;49m\u001b[38;5;124;43mmean\u001b[39;49m\u001b[38;5;124;43m\"\u001b[39;49m\u001b[43m,\u001b[49m\n\u001b[1;32m   2454\u001b[0m \u001b[43m        \u001b[49m\u001b[43malt\u001b[49m\u001b[38;5;241;43m=\u001b[39;49m\u001b[38;5;28;43;01mlambda\u001b[39;49;00m\u001b[43m \u001b[49m\u001b[43mx\u001b[49m\u001b[43m:\u001b[49m\u001b[43m \u001b[49m\u001b[43mSeries\u001b[49m\u001b[43m(\u001b[49m\u001b[43mx\u001b[49m\u001b[43m,\u001b[49m\u001b[43m \u001b[49m\u001b[43mcopy\u001b[49m\u001b[38;5;241;43m=\u001b[39;49m\u001b[38;5;28;43;01mFalse\u001b[39;49;00m\u001b[43m)\u001b[49m\u001b[38;5;241;43m.\u001b[39;49m\u001b[43mmean\u001b[49m\u001b[43m(\u001b[49m\u001b[43mnumeric_only\u001b[49m\u001b[38;5;241;43m=\u001b[39;49m\u001b[43mnumeric_only\u001b[49m\u001b[43m)\u001b[49m\u001b[43m,\u001b[49m\n\u001b[1;32m   2455\u001b[0m \u001b[43m        \u001b[49m\u001b[43mnumeric_only\u001b[49m\u001b[38;5;241;43m=\u001b[39;49m\u001b[43mnumeric_only\u001b[49m\u001b[43m,\u001b[49m\n\u001b[1;32m   2456\u001b[0m \u001b[43m    \u001b[49m\u001b[43m)\u001b[49m\n\u001b[1;32m   2457\u001b[0m     \u001b[38;5;28;01mreturn\u001b[39;00m result\u001b[38;5;241m.\u001b[39m__finalize__(\u001b[38;5;28mself\u001b[39m\u001b[38;5;241m.\u001b[39mobj, method\u001b[38;5;241m=\u001b[39m\u001b[38;5;124m\"\u001b[39m\u001b[38;5;124mgroupby\u001b[39m\u001b[38;5;124m\"\u001b[39m)\n",
      "File \u001b[0;32m~/envs/jupyter/lib/python3.11/site-packages/pandas/core/groupby/groupby.py:1998\u001b[0m, in \u001b[0;36mGroupBy._cython_agg_general\u001b[0;34m(self, how, alt, numeric_only, min_count, **kwargs)\u001b[0m\n\u001b[1;32m   1995\u001b[0m     result \u001b[38;5;241m=\u001b[39m \u001b[38;5;28mself\u001b[39m\u001b[38;5;241m.\u001b[39m_agg_py_fallback(how, values, ndim\u001b[38;5;241m=\u001b[39mdata\u001b[38;5;241m.\u001b[39mndim, alt\u001b[38;5;241m=\u001b[39malt)\n\u001b[1;32m   1996\u001b[0m     \u001b[38;5;28;01mreturn\u001b[39;00m result\n\u001b[0;32m-> 1998\u001b[0m new_mgr \u001b[38;5;241m=\u001b[39m \u001b[43mdata\u001b[49m\u001b[38;5;241;43m.\u001b[39;49m\u001b[43mgrouped_reduce\u001b[49m\u001b[43m(\u001b[49m\u001b[43marray_func\u001b[49m\u001b[43m)\u001b[49m\n\u001b[1;32m   1999\u001b[0m res \u001b[38;5;241m=\u001b[39m \u001b[38;5;28mself\u001b[39m\u001b[38;5;241m.\u001b[39m_wrap_agged_manager(new_mgr)\n\u001b[1;32m   2000\u001b[0m \u001b[38;5;28;01mif\u001b[39;00m how \u001b[38;5;129;01min\u001b[39;00m [\u001b[38;5;124m\"\u001b[39m\u001b[38;5;124midxmin\u001b[39m\u001b[38;5;124m\"\u001b[39m, \u001b[38;5;124m\"\u001b[39m\u001b[38;5;124midxmax\u001b[39m\u001b[38;5;124m\"\u001b[39m]:\n",
      "File \u001b[0;32m~/envs/jupyter/lib/python3.11/site-packages/pandas/core/internals/managers.py:1469\u001b[0m, in \u001b[0;36mBlockManager.grouped_reduce\u001b[0;34m(self, func)\u001b[0m\n\u001b[1;32m   1465\u001b[0m \u001b[38;5;28;01mif\u001b[39;00m blk\u001b[38;5;241m.\u001b[39mis_object:\n\u001b[1;32m   1466\u001b[0m     \u001b[38;5;66;03m# split on object-dtype blocks bc some columns may raise\u001b[39;00m\n\u001b[1;32m   1467\u001b[0m     \u001b[38;5;66;03m#  while others do not.\u001b[39;00m\n\u001b[1;32m   1468\u001b[0m     \u001b[38;5;28;01mfor\u001b[39;00m sb \u001b[38;5;129;01min\u001b[39;00m blk\u001b[38;5;241m.\u001b[39m_split():\n\u001b[0;32m-> 1469\u001b[0m         applied \u001b[38;5;241m=\u001b[39m \u001b[43msb\u001b[49m\u001b[38;5;241;43m.\u001b[39;49m\u001b[43mapply\u001b[49m\u001b[43m(\u001b[49m\u001b[43mfunc\u001b[49m\u001b[43m)\u001b[49m\n\u001b[1;32m   1470\u001b[0m         result_blocks \u001b[38;5;241m=\u001b[39m extend_blocks(applied, result_blocks)\n\u001b[1;32m   1471\u001b[0m \u001b[38;5;28;01melse\u001b[39;00m:\n",
      "File \u001b[0;32m~/envs/jupyter/lib/python3.11/site-packages/pandas/core/internals/blocks.py:393\u001b[0m, in \u001b[0;36mBlock.apply\u001b[0;34m(self, func, **kwargs)\u001b[0m\n\u001b[1;32m    387\u001b[0m \u001b[38;5;129m@final\u001b[39m\n\u001b[1;32m    388\u001b[0m \u001b[38;5;28;01mdef\u001b[39;00m\u001b[38;5;250m \u001b[39m\u001b[38;5;21mapply\u001b[39m(\u001b[38;5;28mself\u001b[39m, func, \u001b[38;5;241m*\u001b[39m\u001b[38;5;241m*\u001b[39mkwargs) \u001b[38;5;241m-\u001b[39m\u001b[38;5;241m>\u001b[39m \u001b[38;5;28mlist\u001b[39m[Block]:\n\u001b[1;32m    389\u001b[0m \u001b[38;5;250m    \u001b[39m\u001b[38;5;124;03m\"\"\"\u001b[39;00m\n\u001b[1;32m    390\u001b[0m \u001b[38;5;124;03m    apply the function to my values; return a block if we are not\u001b[39;00m\n\u001b[1;32m    391\u001b[0m \u001b[38;5;124;03m    one\u001b[39;00m\n\u001b[1;32m    392\u001b[0m \u001b[38;5;124;03m    \"\"\"\u001b[39;00m\n\u001b[0;32m--> 393\u001b[0m     result \u001b[38;5;241m=\u001b[39m \u001b[43mfunc\u001b[49m\u001b[43m(\u001b[49m\u001b[38;5;28;43mself\u001b[39;49m\u001b[38;5;241;43m.\u001b[39;49m\u001b[43mvalues\u001b[49m\u001b[43m,\u001b[49m\u001b[43m \u001b[49m\u001b[38;5;241;43m*\u001b[39;49m\u001b[38;5;241;43m*\u001b[39;49m\u001b[43mkwargs\u001b[49m\u001b[43m)\u001b[49m\n\u001b[1;32m    395\u001b[0m     result \u001b[38;5;241m=\u001b[39m maybe_coerce_values(result)\n\u001b[1;32m    396\u001b[0m     \u001b[38;5;28;01mreturn\u001b[39;00m \u001b[38;5;28mself\u001b[39m\u001b[38;5;241m.\u001b[39m_split_op_result(result)\n",
      "File \u001b[0;32m~/envs/jupyter/lib/python3.11/site-packages/pandas/core/groupby/groupby.py:1995\u001b[0m, in \u001b[0;36mGroupBy._cython_agg_general.<locals>.array_func\u001b[0;34m(values)\u001b[0m\n\u001b[1;32m   1992\u001b[0m     \u001b[38;5;28;01mreturn\u001b[39;00m result\n\u001b[1;32m   1994\u001b[0m \u001b[38;5;28;01massert\u001b[39;00m alt \u001b[38;5;129;01mis\u001b[39;00m \u001b[38;5;129;01mnot\u001b[39;00m \u001b[38;5;28;01mNone\u001b[39;00m\n\u001b[0;32m-> 1995\u001b[0m result \u001b[38;5;241m=\u001b[39m \u001b[38;5;28;43mself\u001b[39;49m\u001b[38;5;241;43m.\u001b[39;49m\u001b[43m_agg_py_fallback\u001b[49m\u001b[43m(\u001b[49m\u001b[43mhow\u001b[49m\u001b[43m,\u001b[49m\u001b[43m \u001b[49m\u001b[43mvalues\u001b[49m\u001b[43m,\u001b[49m\u001b[43m \u001b[49m\u001b[43mndim\u001b[49m\u001b[38;5;241;43m=\u001b[39;49m\u001b[43mdata\u001b[49m\u001b[38;5;241;43m.\u001b[39;49m\u001b[43mndim\u001b[49m\u001b[43m,\u001b[49m\u001b[43m \u001b[49m\u001b[43malt\u001b[49m\u001b[38;5;241;43m=\u001b[39;49m\u001b[43malt\u001b[49m\u001b[43m)\u001b[49m\n\u001b[1;32m   1996\u001b[0m \u001b[38;5;28;01mreturn\u001b[39;00m result\n",
      "File \u001b[0;32m~/envs/jupyter/lib/python3.11/site-packages/pandas/core/groupby/groupby.py:1946\u001b[0m, in \u001b[0;36mGroupBy._agg_py_fallback\u001b[0;34m(self, how, values, ndim, alt)\u001b[0m\n\u001b[1;32m   1944\u001b[0m     msg \u001b[38;5;241m=\u001b[39m \u001b[38;5;124mf\u001b[39m\u001b[38;5;124m\"\u001b[39m\u001b[38;5;124magg function failed [how->\u001b[39m\u001b[38;5;132;01m{\u001b[39;00mhow\u001b[38;5;132;01m}\u001b[39;00m\u001b[38;5;124m,dtype->\u001b[39m\u001b[38;5;132;01m{\u001b[39;00mser\u001b[38;5;241m.\u001b[39mdtype\u001b[38;5;132;01m}\u001b[39;00m\u001b[38;5;124m]\u001b[39m\u001b[38;5;124m\"\u001b[39m\n\u001b[1;32m   1945\u001b[0m     \u001b[38;5;66;03m# preserve the kind of exception that raised\u001b[39;00m\n\u001b[0;32m-> 1946\u001b[0m     \u001b[38;5;28;01mraise\u001b[39;00m \u001b[38;5;28mtype\u001b[39m(err)(msg) \u001b[38;5;28;01mfrom\u001b[39;00m\u001b[38;5;250m \u001b[39m\u001b[38;5;21;01merr\u001b[39;00m\n\u001b[1;32m   1948\u001b[0m \u001b[38;5;28;01mif\u001b[39;00m ser\u001b[38;5;241m.\u001b[39mdtype \u001b[38;5;241m==\u001b[39m \u001b[38;5;28mobject\u001b[39m:\n\u001b[1;32m   1949\u001b[0m     res_values \u001b[38;5;241m=\u001b[39m res_values\u001b[38;5;241m.\u001b[39mastype(\u001b[38;5;28mobject\u001b[39m, copy\u001b[38;5;241m=\u001b[39m\u001b[38;5;28;01mFalse\u001b[39;00m)\n",
      "\u001b[0;31mTypeError\u001b[0m: agg function failed [how->mean,dtype->object]"
     ]
    }
   ],
   "source": [
    "# visualize how many books per author\n",
    "books_df.groupby('Book-Author').mean().plot()"
   ]
  },
  {
   "cell_type": "code",
   "execution_count": 4,
   "id": "76a02cf6-b7e1-422c-ae98-d5ef4ee89197",
   "metadata": {
    "execution": {
     "iopub.execute_input": "2025-05-12T10:33:53.018247Z",
     "iopub.status.busy": "2025-05-12T10:33:53.017723Z",
     "iopub.status.idle": "2025-05-12T10:33:53.025861Z",
     "shell.execute_reply": "2025-05-12T10:33:53.025128Z",
     "shell.execute_reply.started": "2025-05-12T10:33:53.018218Z"
    }
   },
   "outputs": [
    {
     "data": {
      "text/plain": [
       "Index                      132\n",
       "ISBN                   2170880\n",
       "Book-Title             2170880\n",
       "Book-Author            2170880\n",
       "Year-Of-Publication    2170880\n",
       "Publisher              2170880\n",
       "Image-URL-S            2170880\n",
       "Image-URL-M            2170880\n",
       "Image-URL-L            2170880\n",
       "dtype: int64"
      ]
     },
     "execution_count": 4,
     "metadata": {},
     "output_type": "execute_result"
    }
   ],
   "source": [
    "books_df.memory_usage()"
   ]
  },
  {
   "cell_type": "code",
   "execution_count": 5,
   "id": "7d2beec5-11e5-42ea-9ab0-870467f4468d",
   "metadata": {
    "execution": {
     "iopub.execute_input": "2025-05-12T10:33:56.407030Z",
     "iopub.status.busy": "2025-05-12T10:33:56.406241Z",
     "iopub.status.idle": "2025-05-12T10:33:56.419044Z",
     "shell.execute_reply": "2025-05-12T10:33:56.418224Z",
     "shell.execute_reply.started": "2025-05-12T10:33:56.407000Z"
    }
   },
   "outputs": [],
   "source": [
    "books_df['Book-Author'] = books_df['Book-Author'].astype(str)"
   ]
  },
  {
   "cell_type": "code",
   "execution_count": 6,
   "id": "9b6ae14b-6118-44c8-ba9b-6346d7307bdf",
   "metadata": {
    "execution": {
     "iopub.execute_input": "2025-05-12T10:33:56.595459Z",
     "iopub.status.busy": "2025-05-12T10:33:56.594925Z",
     "iopub.status.idle": "2025-05-12T10:33:56.602502Z",
     "shell.execute_reply": "2025-05-12T10:33:56.601734Z",
     "shell.execute_reply.started": "2025-05-12T10:33:56.595433Z"
    }
   },
   "outputs": [
    {
     "data": {
      "text/plain": [
       "Index                      132\n",
       "ISBN                   2170880\n",
       "Book-Title             2170880\n",
       "Book-Author            2170880\n",
       "Year-Of-Publication    2170880\n",
       "Publisher              2170880\n",
       "Image-URL-S            2170880\n",
       "Image-URL-M            2170880\n",
       "Image-URL-L            2170880\n",
       "dtype: int64"
      ]
     },
     "execution_count": 6,
     "metadata": {},
     "output_type": "execute_result"
    }
   ],
   "source": [
    "books_df.memory_usage()"
   ]
  },
  {
   "cell_type": "code",
   "execution_count": 103,
   "id": "5c2709d9-cbdf-443c-b3e7-73a3177d2671",
   "metadata": {
    "execution": {
     "iopub.execute_input": "2025-05-12T11:48:33.732098Z",
     "iopub.status.busy": "2025-05-12T11:48:33.731577Z",
     "iopub.status.idle": "2025-05-12T11:48:33.736944Z",
     "shell.execute_reply": "2025-05-12T11:48:33.736219Z",
     "shell.execute_reply.started": "2025-05-12T11:48:33.732071Z"
    }
   },
   "outputs": [],
   "source": [
    "books_df['Year-Of-Publication'] = books_df['Year-Of-Publication'].astype('category')\n",
    "books_df['Publisher'] = books_df['Publisher'].astype('category')"
   ]
  },
  {
   "cell_type": "code",
   "execution_count": 104,
   "id": "98b8e886-1b38-4f11-84ce-4ca70ae12c75",
   "metadata": {
    "execution": {
     "iopub.execute_input": "2025-05-12T11:48:33.921981Z",
     "iopub.status.busy": "2025-05-12T11:48:33.921469Z",
     "iopub.status.idle": "2025-05-12T11:48:33.928919Z",
     "shell.execute_reply": "2025-05-12T11:48:33.928265Z",
     "shell.execute_reply.started": "2025-05-12T11:48:33.921954Z"
    }
   },
   "outputs": [
    {
     "data": {
      "text/plain": [
       "Index                      132\n",
       "ISBN                   2170880\n",
       "Book-Title             2170880\n",
       "Book-Author            2170880\n",
       "Year-Of-Publication     552632\n",
       "Publisher              1205600\n",
       "Image-URL-S            2170880\n",
       "Image-URL-M            2170880\n",
       "Image-URL-L            2170880\n",
       "transformed_ISBN        271360\n",
       "dtype: int64"
      ]
     },
     "execution_count": 104,
     "metadata": {},
     "output_type": "execute_result"
    }
   ],
   "source": [
    "books_df.memory_usage()"
   ]
  },
  {
   "cell_type": "code",
   "execution_count": null,
   "id": "2e124bec-753e-4176-a92f-357ef2104cc2",
   "metadata": {},
   "outputs": [],
   "source": []
  },
  {
   "cell_type": "code",
   "execution_count": null,
   "id": "d7016168-ed2f-419f-bbeb-8a5a42360434",
   "metadata": {
    "scrolled": true
   },
   "outputs": [],
   "source": [
    "books_df[books_df['Book-Author'] == 'Plato']"
   ]
  },
  {
   "cell_type": "code",
   "execution_count": null,
   "id": "c0381da0-8956-4e27-be66-1def0616ea7c",
   "metadata": {
    "scrolled": true
   },
   "outputs": [],
   "source": [
    "books_df[books_df['ISBN'] == '3257207522']"
   ]
  },
  {
   "cell_type": "code",
   "execution_count": null,
   "id": "b84dbc3c-4d9e-486a-8d16-0a535c455428",
   "metadata": {},
   "outputs": [],
   "source": [
    "books_df['Publisher'].unique()"
   ]
  },
  {
   "cell_type": "code",
   "execution_count": null,
   "id": "6341b882-a9fb-4bc2-9b90-8fe64c314188",
   "metadata": {},
   "outputs": [],
   "source": [
    "users_df.head(), ratings_df.head()"
   ]
  },
  {
   "cell_type": "code",
   "execution_count": null,
   "id": "ad1f6c3d-1e5c-4979-9b7b-215f71db5ac1",
   "metadata": {},
   "outputs": [],
   "source": [
    "ratings_df['User-ID'].unique()"
   ]
  },
  {
   "cell_type": "code",
   "execution_count": null,
   "id": "477a92f3-f37e-4d06-8dcb-372194c681fe",
   "metadata": {},
   "outputs": [],
   "source": [
    "users_df['User-ID'].unique()"
   ]
  },
  {
   "cell_type": "code",
   "execution_count": null,
   "id": "1e4b83b4-ece5-4f9e-8cf6-6371d7f560a1",
   "metadata": {},
   "outputs": [],
   "source": [
    "ratings_by_user = ratings_df.groupby('User-ID')"
   ]
  },
  {
   "cell_type": "code",
   "execution_count": null,
   "id": "8dc65c42-a5a7-4da6-81c9-94d6927ad891",
   "metadata": {},
   "outputs": [],
   "source": [
    "ratings_by_user.groups[276729]"
   ]
  },
  {
   "cell_type": "code",
   "execution_count": 98,
   "id": "ce4fdf9d-6fc0-40a6-8391-f27e063fad15",
   "metadata": {
    "execution": {
     "iopub.execute_input": "2025-05-12T11:31:33.488765Z",
     "iopub.status.busy": "2025-05-12T11:31:33.488214Z",
     "iopub.status.idle": "2025-05-12T11:31:33.492384Z",
     "shell.execute_reply": "2025-05-12T11:31:33.491660Z",
     "shell.execute_reply.started": "2025-05-12T11:31:33.488740Z"
    }
   },
   "outputs": [],
   "source": [
    "# visualize book titles\n",
    "\n",
    "def get_books_from_ids(ids, books_df):\n",
    "    return books_df[books_df['ISBN'].isin(ids)][['Book-Title', 'Book-Author']]"
   ]
  },
  {
   "cell_type": "code",
   "execution_count": 99,
   "id": "c7feac91-0630-400a-87e2-ed904630c073",
   "metadata": {
    "execution": {
     "iopub.execute_input": "2025-05-12T11:31:33.668688Z",
     "iopub.status.busy": "2025-05-12T11:31:33.668138Z",
     "iopub.status.idle": "2025-05-12T11:31:33.687914Z",
     "shell.execute_reply": "2025-05-12T11:31:33.687293Z",
     "shell.execute_reply.started": "2025-05-12T11:31:33.668664Z"
    }
   },
   "outputs": [
    {
     "data": {
      "text/html": [
       "<div>\n",
       "<style scoped>\n",
       "    .dataframe tbody tr th:only-of-type {\n",
       "        vertical-align: middle;\n",
       "    }\n",
       "\n",
       "    .dataframe tbody tr th {\n",
       "        vertical-align: top;\n",
       "    }\n",
       "\n",
       "    .dataframe thead th {\n",
       "        text-align: right;\n",
       "    }\n",
       "</style>\n",
       "<table border=\"1\" class=\"dataframe\">\n",
       "  <thead>\n",
       "    <tr style=\"text-align: right;\">\n",
       "      <th></th>\n",
       "      <th>Book-Title</th>\n",
       "      <th>Book-Author</th>\n",
       "    </tr>\n",
       "  </thead>\n",
       "  <tbody>\n",
       "  </tbody>\n",
       "</table>\n",
       "</div>"
      ],
      "text/plain": [
       "Empty DataFrame\n",
       "Columns: [Book-Title, Book-Author]\n",
       "Index: []"
      ]
     },
     "execution_count": 99,
     "metadata": {},
     "output_type": "execute_result"
    }
   ],
   "source": [
    "get_books_from_ids(['55305663'], books_df)"
   ]
  },
  {
   "cell_type": "markdown",
   "id": "cb7ed1fa-ddd8-4f1b-9b3b-b4287afaaf53",
   "metadata": {},
   "source": [
    "# Data quality"
   ]
  },
  {
   "cell_type": "markdown",
   "id": "5f6b9e97-e6ac-4054-9de1-de8c6e6760a4",
   "metadata": {},
   "source": [
    "User and ratings datasets are okay, there's not much to improve.\n",
    "With books dataset, theres one big issue and that are reprints. Basically the same book is split into many instances under many different ISBN\n",
    "(hello equivalence classes).\n",
    "To improve data quality, we need to assign new ids, that will correspond to class of one book.\""
   ]
  },
  {
   "cell_type": "markdown",
   "id": "05abea27-4d65-4e45-a5b9-260475b2ef3d",
   "metadata": {},
   "source": [
    "## we should also clear dataset of corrupted isbn\n"
   ]
  },
  {
   "cell_type": "markdown",
   "id": "be85b0f7-5b65-47f6-b318-2a63c69a8187",
   "metadata": {},
   "source": [
    "ISBN consists of digits only, with exception of X which stands for 10 (Roman numerals right).\n",
    "Lets do a simple check of ISBN validity and preceed it with regular expression to filter corrupted ones."
   ]
  },
  {
   "cell_type": "code",
   "execution_count": 84,
   "id": "66b5863b-b2b8-425d-b648-218a5fe5b056",
   "metadata": {
    "execution": {
     "iopub.execute_input": "2025-05-12T11:25:54.559835Z",
     "iopub.status.busy": "2025-05-12T11:25:54.559439Z",
     "iopub.status.idle": "2025-05-12T11:25:54.563538Z",
     "shell.execute_reply": "2025-05-12T11:25:54.562980Z",
     "shell.execute_reply.started": "2025-05-12T11:25:54.559814Z"
    }
   },
   "outputs": [],
   "source": [
    "import re\n",
    "def check_dataset_ISBN(books_df):\n",
    "    # first transform isbn into correct format \n",
    "    books_df['transformed_ISBN'] = books_df['ISBN'].apply(transform_ISBN)\n",
    "    books_df['transformed_ISBN'] = books_df['transformed_ISBN'].apply(check_if_ISBN_is_valid)\n",
    "    return books_df"
   ]
  },
  {
   "cell_type": "code",
   "execution_count": 95,
   "id": "56b24bbc-0579-4dab-b3f4-3dc08666e5f6",
   "metadata": {
    "execution": {
     "iopub.execute_input": "2025-05-12T11:31:02.812952Z",
     "iopub.status.busy": "2025-05-12T11:31:02.812623Z",
     "iopub.status.idle": "2025-05-12T11:31:05.700086Z",
     "shell.execute_reply": "2025-05-12T11:31:05.699415Z",
     "shell.execute_reply.started": "2025-05-12T11:31:02.812931Z"
    },
    "scrolled": true
   },
   "outputs": [],
   "source": [
    "new_books = check_dataset_ISBN(ratings_df)"
   ]
  },
  {
   "cell_type": "code",
   "execution_count": 96,
   "id": "eda37dc0-344c-4c62-a65f-c2f2f1411f49",
   "metadata": {
    "execution": {
     "iopub.execute_input": "2025-05-12T11:31:06.241807Z",
     "iopub.status.busy": "2025-05-12T11:31:06.241200Z",
     "iopub.status.idle": "2025-05-12T11:31:06.251680Z",
     "shell.execute_reply": "2025-05-12T11:31:06.251025Z",
     "shell.execute_reply.started": "2025-05-12T11:31:06.241787Z"
    }
   },
   "outputs": [
    {
     "data": {
      "text/html": [
       "<div>\n",
       "<style scoped>\n",
       "    .dataframe tbody tr th:only-of-type {\n",
       "        vertical-align: middle;\n",
       "    }\n",
       "\n",
       "    .dataframe tbody tr th {\n",
       "        vertical-align: top;\n",
       "    }\n",
       "\n",
       "    .dataframe thead th {\n",
       "        text-align: right;\n",
       "    }\n",
       "</style>\n",
       "<table border=\"1\" class=\"dataframe\">\n",
       "  <thead>\n",
       "    <tr style=\"text-align: right;\">\n",
       "      <th></th>\n",
       "      <th>User-ID</th>\n",
       "      <th>ISBN</th>\n",
       "      <th>Book-Rating</th>\n",
       "      <th>transformed_ISBN</th>\n",
       "    </tr>\n",
       "  </thead>\n",
       "  <tbody>\n",
       "    <tr>\n",
       "      <th>40</th>\n",
       "      <td>276762</td>\n",
       "      <td>342662429</td>\n",
       "      <td>0</td>\n",
       "      <td>False</td>\n",
       "    </tr>\n",
       "    <tr>\n",
       "      <th>54</th>\n",
       "      <td>276762</td>\n",
       "      <td>B0000BLD7X</td>\n",
       "      <td>0</td>\n",
       "      <td>False</td>\n",
       "    </tr>\n",
       "    <tr>\n",
       "      <th>55</th>\n",
       "      <td>276762</td>\n",
       "      <td>N3453124715</td>\n",
       "      <td>4</td>\n",
       "      <td>False</td>\n",
       "    </tr>\n",
       "    <tr>\n",
       "      <th>143</th>\n",
       "      <td>276822</td>\n",
       "      <td>0699854289</td>\n",
       "      <td>10</td>\n",
       "      <td>False</td>\n",
       "    </tr>\n",
       "    <tr>\n",
       "      <th>172</th>\n",
       "      <td>276842</td>\n",
       "      <td>3809407536</td>\n",
       "      <td>7</td>\n",
       "      <td>False</td>\n",
       "    </tr>\n",
       "    <tr>\n",
       "      <th>...</th>\n",
       "      <td>...</td>\n",
       "      <td>...</td>\n",
       "      <td>...</td>\n",
       "      <td>...</td>\n",
       "    </tr>\n",
       "    <tr>\n",
       "      <th>1149358</th>\n",
       "      <td>276670</td>\n",
       "      <td>00969754916</td>\n",
       "      <td>7</td>\n",
       "      <td>False</td>\n",
       "    </tr>\n",
       "    <tr>\n",
       "      <th>1149399</th>\n",
       "      <td>276670</td>\n",
       "      <td>0676971395</td>\n",
       "      <td>8</td>\n",
       "      <td>False</td>\n",
       "    </tr>\n",
       "    <tr>\n",
       "      <th>1149428</th>\n",
       "      <td>276670</td>\n",
       "      <td>15655122046</td>\n",
       "      <td>6</td>\n",
       "      <td>False</td>\n",
       "    </tr>\n",
       "    <tr>\n",
       "      <th>1149439</th>\n",
       "      <td>276670</td>\n",
       "      <td>55305663</td>\n",
       "      <td>6</td>\n",
       "      <td>False</td>\n",
       "    </tr>\n",
       "    <tr>\n",
       "      <th>1149779</th>\n",
       "      <td>276723</td>\n",
       "      <td>05162443314</td>\n",
       "      <td>8</td>\n",
       "      <td>False</td>\n",
       "    </tr>\n",
       "  </tbody>\n",
       "</table>\n",
       "<p>15129 rows × 4 columns</p>\n",
       "</div>"
      ],
      "text/plain": [
       "         User-ID         ISBN  Book-Rating  transformed_ISBN\n",
       "40        276762    342662429            0             False\n",
       "54        276762   B0000BLD7X            0             False\n",
       "55        276762  N3453124715            4             False\n",
       "143       276822   0699854289           10             False\n",
       "172       276842   3809407536            7             False\n",
       "...          ...          ...          ...               ...\n",
       "1149358   276670  00969754916            7             False\n",
       "1149399   276670   0676971395            8             False\n",
       "1149428   276670  15655122046            6             False\n",
       "1149439   276670     55305663            6             False\n",
       "1149779   276723  05162443314            8             False\n",
       "\n",
       "[15129 rows x 4 columns]"
      ]
     },
     "execution_count": 96,
     "metadata": {},
     "output_type": "execute_result"
    }
   ],
   "source": [
    "new_books[new_books['transformed_ISBN'] == False]"
   ]
  },
  {
   "cell_type": "code",
   "execution_count": 91,
   "id": "2095e51b-1cb4-4152-b4e4-85e7c9df86b1",
   "metadata": {
    "execution": {
     "iopub.execute_input": "2025-05-12T11:28:51.545461Z",
     "iopub.status.busy": "2025-05-12T11:28:51.544968Z",
     "iopub.status.idle": "2025-05-12T11:28:51.549382Z",
     "shell.execute_reply": "2025-05-12T11:28:51.548655Z",
     "shell.execute_reply.started": "2025-05-12T11:28:51.545437Z"
    }
   },
   "outputs": [],
   "source": [
    "def transform_ISBN(isbn):\n",
    "    pattern = \"[xX0-9-]+\"\n",
    "    match = re.fullmatch(pattern, isbn)\n",
    "    if match:\n",
    "        return match.group(0)"
   ]
  },
  {
   "cell_type": "code",
   "execution_count": 92,
   "id": "df52340a-8c1b-4ec5-b19c-23e5d2acdb18",
   "metadata": {
    "execution": {
     "iopub.execute_input": "2025-05-12T11:28:53.159307Z",
     "iopub.status.busy": "2025-05-12T11:28:53.158673Z",
     "iopub.status.idle": "2025-05-12T11:28:53.163936Z",
     "shell.execute_reply": "2025-05-12T11:28:53.163218Z",
     "shell.execute_reply.started": "2025-05-12T11:28:53.159282Z"
    }
   },
   "outputs": [],
   "source": [
    "def check_if_ISBN_is_valid(ISBN):\n",
    "    if ISBN is None:\n",
    "        return False\n",
    "    total_weighted_sum = 0\n",
    "    i = 10\n",
    "    for num in ISBN:\n",
    "        if num == 'X' or num == 'x':\n",
    "            num = 10\n",
    "        elif num == '-':\n",
    "            continue\n",
    "        total_weighted_sum += i * int(num)\n",
    "        i -= 1\n",
    "    return total_weighted_sum % 11 == 0\n",
    "        \n",
    "    "
   ]
  },
  {
   "cell_type": "code",
   "execution_count": 75,
   "id": "63c32f7c-57b7-4c8a-92d2-064796141c4b",
   "metadata": {
    "execution": {
     "iopub.execute_input": "2025-05-12T11:22:29.868700Z",
     "iopub.status.busy": "2025-05-12T11:22:29.868063Z",
     "iopub.status.idle": "2025-05-12T11:22:29.873312Z",
     "shell.execute_reply": "2025-05-12T11:22:29.872608Z",
     "shell.execute_reply.started": "2025-05-12T11:22:29.868676Z"
    }
   },
   "outputs": [
    {
     "data": {
      "text/plain": [
       "False"
      ]
     },
     "execution_count": 75,
     "metadata": {},
     "output_type": "execute_result"
    }
   ],
   "source": [
    "check_if_ISBN_is_valid('432534220')"
   ]
  },
  {
   "cell_type": "code",
   "execution_count": 76,
   "id": "b3c4f755-b910-4071-bb63-76a5de942914",
   "metadata": {
    "execution": {
     "iopub.execute_input": "2025-05-12T11:22:43.541033Z",
     "iopub.status.busy": "2025-05-12T11:22:43.540548Z",
     "iopub.status.idle": "2025-05-12T11:22:43.545451Z",
     "shell.execute_reply": "2025-05-12T11:22:43.544731Z",
     "shell.execute_reply.started": "2025-05-12T11:22:43.541008Z"
    }
   },
   "outputs": [
    {
     "name": "stdout",
     "output_type": "stream",
     "text": [
      "<re.Match object; span=(0, 10), match='9022906116'>\n",
      "None\n"
     ]
    }
   ],
   "source": [
    "pattern = \"[X0-9-]+\"\n",
    "print(re.match(pattern, '9022906116'))\n",
    "re.fullmatch(pattern, 'X000000000')\n",
    "print(re.fullmatch(pattern, '\\0432534220\\\"\"'))"
   ]
  },
  {
   "cell_type": "code",
   "execution_count": 101,
   "id": "282281cc-50a2-4bb1-b221-63d7f018edc6",
   "metadata": {
    "execution": {
     "iopub.execute_input": "2025-05-12T11:31:48.389935Z",
     "iopub.status.busy": "2025-05-12T11:31:48.389391Z",
     "iopub.status.idle": "2025-05-12T11:31:48.420541Z",
     "shell.execute_reply": "2025-05-12T11:31:48.419734Z",
     "shell.execute_reply.started": "2025-05-12T11:31:48.389912Z"
    }
   },
   "outputs": [
    {
     "data": {
      "text/html": [
       "<div>\n",
       "<style scoped>\n",
       "    .dataframe tbody tr th:only-of-type {\n",
       "        vertical-align: middle;\n",
       "    }\n",
       "\n",
       "    .dataframe tbody tr th {\n",
       "        vertical-align: top;\n",
       "    }\n",
       "\n",
       "    .dataframe thead th {\n",
       "        text-align: right;\n",
       "    }\n",
       "</style>\n",
       "<table border=\"1\" class=\"dataframe\">\n",
       "  <thead>\n",
       "    <tr style=\"text-align: right;\">\n",
       "      <th></th>\n",
       "      <th>ISBN</th>\n",
       "      <th>Book-Title</th>\n",
       "      <th>Book-Author</th>\n",
       "      <th>Year-Of-Publication</th>\n",
       "      <th>Publisher</th>\n",
       "      <th>Image-URL-S</th>\n",
       "      <th>Image-URL-M</th>\n",
       "      <th>Image-URL-L</th>\n",
       "      <th>transformed_ISBN</th>\n",
       "    </tr>\n",
       "  </thead>\n",
       "  <tbody>\n",
       "  </tbody>\n",
       "</table>\n",
       "</div>"
      ],
      "text/plain": [
       "Empty DataFrame\n",
       "Columns: [ISBN, Book-Title, Book-Author, Year-Of-Publication, Publisher, Image-URL-S, Image-URL-M, Image-URL-L, transformed_ISBN]\n",
       "Index: []"
      ]
     },
     "execution_count": 101,
     "metadata": {},
     "output_type": "execute_result"
    }
   ],
   "source": [
    "books_df[books_df['ISBN'] == '15655122046']"
   ]
  },
  {
   "cell_type": "code",
   "execution_count": null,
   "id": "e9459b64-67b7-4a8d-88bd-b26e0c45ed46",
   "metadata": {},
   "outputs": [],
   "source": [
    "gp = books_df.groupby('Book-Author')"
   ]
  },
  {
   "cell_type": "code",
   "execution_count": null,
   "id": "86aaf2bf-c9c7-450d-99c9-2880c16d6045",
   "metadata": {},
   "outputs": [],
   "source": [
    "from collections import Counter"
   ]
  },
  {
   "cell_type": "code",
   "execution_count": null,
   "id": "724f8a62-2def-4926-99d9-792acc33c037",
   "metadata": {
    "scrolled": true
   },
   "outputs": [],
   "source": [
    "total_duplicates = 0\n",
    "for name, group in gp:\n",
    "    print(name)\n",
    "    # print(40*'-')\n",
    "    counter = Counter(group['Book-Title'])\n",
    "    duplicates = [name for name, value in counter.items() if value > 1]\n",
    "    print(duplicates)\n",
    "    total_duplicates += len(duplicates)\n",
    "print(f\"Found total {total_duplicates} duplicates\")"
   ]
  },
  {
   "cell_type": "code",
   "execution_count": null,
   "id": "49eb1c8e-ebac-49cf-b911-c2ed363f36ed",
   "metadata": {},
   "outputs": [],
   "source": [
    "sorted_books[sorted_books['Book-Title'] == 'The Dragon and the Unicorn']"
   ]
  },
  {
   "cell_type": "code",
   "execution_count": null,
   "id": "1d09de5d-d3bc-4943-a7ef-70a5270a377b",
   "metadata": {},
   "outputs": [],
   "source": [
    "sorted_books['new_id']"
   ]
  },
  {
   "cell_type": "code",
   "execution_count": null,
   "id": "a39befcc-5063-41d8-8936-0fc5f6394258",
   "metadata": {
    "scrolled": true
   },
   "outputs": [],
   "source": [
    "total_duplicates = 0\n",
    "for name, group in gp:\n",
    "    # print(name)\n",
    "    # print(40*'-')\n",
    "    counter = group['Book-Title'].value_counts()\n",
    "    # print(counter)\n",
    "    duplicates = counter[counter > 1]\n",
    "    # duplicates = [name for name, value in counter.items() if value > 1]\n",
    "    # if not duplicates.empty:\n",
    "    #     print(duplicates)\n",
    "    total_duplicates += len(duplicates)\n",
    "print(f\"Found total {total_duplicates} duplicates\")"
   ]
  },
  {
   "cell_type": "code",
   "execution_count": 102,
   "id": "39c5d40d-1763-4741-85e2-0805310e540d",
   "metadata": {
    "execution": {
     "iopub.execute_input": "2025-05-12T11:43:27.388464Z",
     "iopub.status.busy": "2025-05-12T11:43:27.387949Z",
     "iopub.status.idle": "2025-05-12T11:43:27.394556Z",
     "shell.execute_reply": "2025-05-12T11:43:27.393799Z",
     "shell.execute_reply.started": "2025-05-12T11:43:27.388437Z"
    }
   },
   "outputs": [],
   "source": [
    "def add_new_index_to_books(books_df):\n",
    "    sorted_books = books_df.sort_values(by=['Book-Author', 'Book-Title'])\n",
    "    new_ids = []\n",
    "    current_id = 0\n",
    "    prev_title = None\n",
    "    prev_author = None\n",
    "    for index, row in sorted_books.iterrows():\n",
    "        if prev_author is None or prev_title is None:\n",
    "            prev_author = row['Book-Author']\n",
    "            prev_title = row['Book-Title']\n",
    "            new_ids.append(current_id)\n",
    "            continue\n",
    "    \n",
    "        if row['Book-Author'] == prev_author:\n",
    "            # same author\n",
    "            if row['Book-Title'] != prev_title:\n",
    "                current_id += 1\n",
    "                # new_ids.append(current_id)\n",
    "        else:\n",
    "            current_id += 1\n",
    "        new_ids.append(current_id)\n",
    "        prev_author = row['Book-Author']\n",
    "        prev_title = row['Book-Title']\n",
    "    sorted_books['new-id'] = new_ids\n",
    "    new_books_df = sorted_books.sort_index()#.to_csv('trans_books.csv')\n",
    "    return new_books_df"
   ]
  },
  {
   "cell_type": "code",
   "execution_count": null,
   "id": "38c840ed-7351-4f08-9d8b-b545f8667427",
   "metadata": {},
   "outputs": [],
   "source": []
  },
  {
   "cell_type": "code",
   "execution_count": null,
   "id": "071e433b-7227-4f67-bfc3-6954ba1af1d6",
   "metadata": {},
   "outputs": [],
   "source": [
    "books_df"
   ]
  },
  {
   "cell_type": "code",
   "execution_count": null,
   "id": "27b239b2-d549-44d3-84b2-e7b7f7dfef61",
   "metadata": {},
   "outputs": [],
   "source": [
    "isbn = books_df['ISBN'].sample().values[0]"
   ]
  },
  {
   "cell_type": "code",
   "execution_count": null,
   "id": "ec441c04-c706-414a-bf21-fa8686497f44",
   "metadata": {},
   "outputs": [],
   "source": [
    "ratings_by_books = implicit_ratings.groupby(\"ISBN\")"
   ]
  },
  {
   "cell_type": "code",
   "execution_count": null,
   "id": "a754af51-49f8-4599-b0dc-2dfeb492cf16",
   "metadata": {},
   "outputs": [],
   "source": [
    "ratings_by_books.groups[isbn]"
   ]
  },
  {
   "cell_type": "code",
   "execution_count": null,
   "id": "378e55f3-ec50-48f5-872f-51aa5117d2c0",
   "metadata": {},
   "outputs": [],
   "source": [
    "implicit_ratings[implicit_ratings['ISBN']== isbn]['User-ID'] .values"
   ]
  },
  {
   "cell_type": "code",
   "execution_count": null,
   "id": "ad4f0b43-a789-41c9-8280-f63635c4f79c",
   "metadata": {},
   "outputs": [],
   "source": [
    "sorted_books['new-id'] = new_ids"
   ]
  },
  {
   "cell_type": "code",
   "execution_count": null,
   "id": "6b3107f1-c54a-4e58-84d4-8743d4b9fe64",
   "metadata": {},
   "outputs": [],
   "source": [
    "sorted_books.sort_index().to_csv('trans_books.csv')"
   ]
  },
  {
   "cell_type": "code",
   "execution_count": null,
   "id": "d2cec6d1-edc3-49db-94e4-4467250c257d",
   "metadata": {},
   "outputs": [],
   "source": [
    "# now when books have new id we need to take ratings and assign them new rating too\n",
    "# then we can make predictions opon these new ids"
   ]
  },
  {
   "cell_type": "code",
   "execution_count": null,
   "id": "49bdd354-8a99-44ee-b4f7-6f28a6c0a768",
   "metadata": {},
   "outputs": [],
   "source": [
    "pd.merge(ratings_df, sorted_books[['ISBN', 'new-id']], on='ISBN').to_csv('trans_ratings.csv')"
   ]
  },
  {
   "cell_type": "code",
   "execution_count": null,
   "id": "c8611313-b68b-4b14-ba55-642b84771ba3",
   "metadata": {},
   "outputs": [],
   "source": []
  },
  {
   "cell_type": "code",
   "execution_count": null,
   "id": "5ac12ff4-937c-4177-9549-16dc0dd0b479",
   "metadata": {},
   "outputs": [],
   "source": [
    "# now assign new ids to be used which will be shared for books of same name from same author"
   ]
  },
  {
   "cell_type": "code",
   "execution_count": null,
   "id": "37472422-e426-4bd7-b07e-02e8ff82ad26",
   "metadata": {},
   "outputs": [],
   "source": []
  },
  {
   "cell_type": "code",
   "execution_count": null,
   "id": "97a86c30-f919-4638-a245-2227ed89eba4",
   "metadata": {
    "scrolled": true
   },
   "outputs": [],
   "source": [
    "books_df['Book-Title'].count() - len()"
   ]
  },
  {
   "cell_type": "code",
   "execution_count": null,
   "id": "06f6dfa2-cdce-4a9f-ad2c-601fab7951cc",
   "metadata": {},
   "outputs": [],
   "source": [
    "books_df['Book-Title'].count() - len(books_df['Book-Title'].unique())"
   ]
  },
  {
   "cell_type": "markdown",
   "id": "0d1f6267-652a-47c1-bc36-1b51384d2fa1",
   "metadata": {},
   "source": [
    "# Simple implicit neighbourhood similarity"
   ]
  },
  {
   "cell_type": "code",
   "execution_count": null,
   "id": "480bb0e3-381c-4f7e-8990-581b1fccdce7",
   "metadata": {},
   "outputs": [],
   "source": [
    "# get implicit ratings"
   ]
  },
  {
   "cell_type": "code",
   "execution_count": null,
   "id": "48cd37d3-ed29-4ba3-a556-f60898e00847",
   "metadata": {},
   "outputs": [],
   "source": [
    "implicit_ratings = ratings_df[ratings_df['Book-Rating'] == 0]"
   ]
  },
  {
   "cell_type": "code",
   "execution_count": null,
   "id": "9ca0df3e-98e7-441b-a22e-6356b5df862d",
   "metadata": {},
   "outputs": [],
   "source": [
    "implicit_ratings.columns"
   ]
  },
  {
   "cell_type": "code",
   "execution_count": null,
   "id": "8d3b0660-68ff-4207-9ae1-c9a468e275df",
   "metadata": {},
   "outputs": [],
   "source": [
    "books_df[books_df['ISBN'] == '3442437407']"
   ]
  },
  {
   "cell_type": "code",
   "execution_count": null,
   "id": "6537e728-cba6-46ff-8a00-8e397ca8b79c",
   "metadata": {},
   "outputs": [],
   "source": [
    "implicit_ratings = implicit_ratings.astype({'ISBN': 'str'})"
   ]
  },
  {
   "cell_type": "code",
   "execution_count": null,
   "id": "a7982483-aae0-4e4f-b57a-123f818aadd5",
   "metadata": {},
   "outputs": [],
   "source": [
    "implicit_ratings_by_user = implicit_ratings.groupby('User-ID')"
   ]
  },
  {
   "cell_type": "code",
   "execution_count": null,
   "id": "9259603f-7b14-49fd-a513-14a0c58f61f0",
   "metadata": {
    "scrolled": true
   },
   "outputs": [],
   "source": [
    "implicit_ratings['book_id'] = implicit_ratings['ISBN'].apply(isbn_to_id)"
   ]
  },
  {
   "cell_type": "code",
   "execution_count": null,
   "id": "c0ce23a2-2220-491c-8f73-428ddd364c62",
   "metadata": {},
   "outputs": [],
   "source": [
    "implicit_ratings.shape"
   ]
  },
  {
   "cell_type": "code",
   "execution_count": null,
   "id": "52b57db7-af0f-4289-8f45-fb67845b9b0c",
   "metadata": {},
   "outputs": [],
   "source": [
    "def isbn_to_id(ISBN):\n",
    "    titles = books_df[books_df['ISBN'] == ISBN]\n",
    "    if titles.empty:\n",
    "        return None\n",
    "    return titles.index[0]\n"
   ]
  },
  {
   "cell_type": "code",
   "execution_count": null,
   "id": "8c1262a1-4a5f-40ba-8f74-8ed90be05260",
   "metadata": {},
   "outputs": [],
   "source": [
    "from collections import defaultdict\n",
    "\n",
    "def create_neighbourhood_dict(ratings_by_user, max_groups=1000):\n",
    "    \"\"\"Calculate and return dict of books with neighbourhoods.\n",
    "        Neighbourhood itself is also dict with books in neighbourhood and values representing similarity (greater the better)\n",
    "    \"\"\"\n",
    "    neighbourhoods = defaultdict(dict)\n",
    "    j = 0\n",
    "    for user, group in ratings_by_user:\n",
    "        # print(user, group)\n",
    "        if j > max_groups:\n",
    "            break\n",
    "        j += 1\n",
    "        group_len = len(group)\n",
    "        if group_len >=2:\n",
    "            # add to hoods\n",
    "            group_isbn = group['ISBN']\n",
    "            for i, ISBN in enumerate(group_isbn):\n",
    "                # print(i, values)\n",
    "                main_isbn = ISBN\n",
    "                \n",
    "                for index, index_isbn in enumerate(group_isbn):\n",
    "                    if i == index:\n",
    "                        continue\n",
    "                    if index_isbn in neighbourhoods[main_isbn]:\n",
    "                        neighbourhoods[main_isbn][index_isbn] += 1\n",
    "                    else:\n",
    "                        neighbourhoods[main_isbn][index_isbn] = 1\n",
    "                    # print(neighbourhoods)\n",
    "    return neighbourhoods\n"
   ]
  },
  {
   "cell_type": "code",
   "execution_count": null,
   "id": "38712f27-196b-41bc-b75e-cb8a79341f17",
   "metadata": {},
   "outputs": [],
   "source": [
    "# neighbourhoods = create_neighbourhood_dict(implicit_ratings_by_user, max_groups=100_000)"
   ]
  },
  {
   "cell_type": "code",
   "execution_count": null,
   "id": "9a878ddb-8c86-481f-8fe2-eab6a6b26d60",
   "metadata": {
    "scrolled": true
   },
   "outputs": [],
   "source": [
    "import cProfile\n",
    "import re\n",
    "cProfile.run('create_neighbourhood_dict(implicit_ratings_by_user, max_groups=50_000)')"
   ]
  },
  {
   "cell_type": "code",
   "execution_count": null,
   "id": "ba813c6e-86d2-4fb8-b7bc-0f0fb04f5bc8",
   "metadata": {
    "scrolled": true
   },
   "outputs": [],
   "source": [
    "# ok since calculating similarity measure between items is difficult\n",
    "# lets try it the other way around\n",
    "# when we should find a recommendation for a book\n",
    "# we get all users that read that book\n",
    "# aggregate their favourite books and rank by count\n",
    "# neighbourhood based on people"
   ]
  },
  {
   "cell_type": "code",
   "execution_count": null,
   "id": "7619adab-e2e2-4f3b-a70f-911a78966efc",
   "metadata": {},
   "outputs": [],
   "source": [
    "def get_user_ids_for_ISBN(ratings_df, ISBN):\n",
    "    return ratings_df[ratings_df['ISBN'] == ISBN]['User-ID']"
   ]
  },
  {
   "cell_type": "code",
   "execution_count": null,
   "id": "5bc49189-d074-4e8f-ae96-5c5f8450d150",
   "metadata": {},
   "outputs": [],
   "source": [
    "def get_books_for_users(ratings_df, user_ids):\n",
    "    return ratings_df[ratings_df['User-ID'].isin(user_ids)]"
   ]
  },
  {
   "cell_type": "code",
   "execution_count": null,
   "id": "f165ab59-5cde-4bc6-b41d-13ebf4b878d5",
   "metadata": {},
   "outputs": [],
   "source": [
    "get_user_ids_for_ISBN(implicit_ratings, '1561711543')"
   ]
  },
  {
   "cell_type": "code",
   "execution_count": null,
   "id": "0752fb7d-8060-4359-bace-aa65f66766a7",
   "metadata": {},
   "outputs": [],
   "source": [
    "get_books_for_user(ratings_df, 276733)"
   ]
  },
  {
   "cell_type": "code",
   "execution_count": null,
   "id": "b9ee0a36-db9b-4ebd-b6e5-00d08a59e215",
   "metadata": {},
   "outputs": [],
   "source": [
    "def get_user_books(books_df, implicit_ratings, users_df):\n",
    "    neighbourhood = {}\n",
    "    for index, user in users_df['User-ID'].items():\n",
    "        books = get_books_for_users(implicit_ratings, users)['ISBN']\n",
    "        neighbourhood[index] = books.values\n",
    "    return neighbourhood\n",
    "    \n",
    "        "
   ]
  },
  {
   "cell_type": "code",
   "execution_count": null,
   "id": "30daabd0-d368-458a-8122-e4db1dfb42c7",
   "metadata": {},
   "outputs": [],
   "source": [
    "def find_book_in_dataset(book_string, books_df):\n",
    "    books_with_lower = books_df['Book-Title'].str.lower()\n",
    "    book_string = book_string.lower().split(\" \")\n",
    "    bool_indices = books_with_lower.str.contains(book_string[0])\n",
    "    for word in book_string:\n",
    "        bool_indices = bool_indices & books_with_lower.str.contains(word)\n",
    "    return books_df[bool_indices].iloc[0]\n",
    "    "
   ]
  },
  {
   "cell_type": "code",
   "execution_count": null,
   "id": "855c0023-a45d-4622-b7d9-5897deab6061",
   "metadata": {},
   "outputs": [],
   "source": [
    "a = find_book_in_dataset(\"book\", books_df)"
   ]
  },
  {
   "cell_type": "code",
   "execution_count": null,
   "id": "d4a76201-9541-49ca-9e81-2a4d6b4f4232",
   "metadata": {},
   "outputs": [],
   "source": [
    "a"
   ]
  },
  {
   "cell_type": "code",
   "execution_count": null,
   "id": "ac9e4592-4309-41ff-8edc-02c161d6a828",
   "metadata": {
    "scrolled": true
   },
   "outputs": [],
   "source": [
    "hoods = get_user_books(books_df, implicit_ratings, users_df)"
   ]
  },
  {
   "cell_type": "code",
   "execution_count": null,
   "id": "6ab81b64-cc04-4dbb-83ff-82b9faa82b24",
   "metadata": {
    "scrolled": true
   },
   "outputs": [],
   "source": [
    "len(hoods)"
   ]
  },
  {
   "cell_type": "code",
   "execution_count": null,
   "id": "a24538c9-db84-4754-8e94-76111225cd67",
   "metadata": {},
   "outputs": [],
   "source": [
    "from collections import Counter\n",
    "\n",
    "\n",
    "def get_hoods_for_book(book_isbn, hoods):\n",
    "    all_similar_books = []\n",
    "    for user_id, hood in hoods.items():\n",
    "        # print(hood)\n",
    "        if book_isbn in hood:\n",
    "            all_similar_books.extend(hood)\n",
    "    return Counter(all_similar_books)"
   ]
  },
  {
   "cell_type": "code",
   "execution_count": null,
   "id": "41eaa14d-00ca-4eba-9646-d51064bfc4af",
   "metadata": {
    "scrolled": true
   },
   "outputs": [],
   "source": [
    "get_hoods_for_book('0380780879', hoods)"
   ]
  },
  {
   "cell_type": "code",
   "execution_count": null,
   "id": "5c53a7db-054c-4764-bf0c-fe24f76a13d9",
   "metadata": {},
   "outputs": [],
   "source": [
    "implicit_ratings.head()"
   ]
  },
  {
   "cell_type": "code",
   "execution_count": null,
   "id": "b9f60371-bc29-4948-b85c-b15cfb741737",
   "metadata": {},
   "outputs": [],
   "source": [
    "\n",
    "# now if we want similar, get users for book\n"
   ]
  },
  {
   "cell_type": "code",
   "execution_count": null,
   "id": "2e851b3f-5614-49f5-8ed6-a6475d4dbb6f",
   "metadata": {
    "scrolled": true
   },
   "outputs": [],
   "source": [
    "Counter(implicit_ratings[implicit_ratings['User-ID'].isin(user_ids)]['ISBN'].values)"
   ]
  },
  {
   "cell_type": "code",
   "execution_count": null,
   "id": "66aadd42-d609-4c8a-9a74-b65ebae9de6d",
   "metadata": {},
   "outputs": [],
   "source": [
    "ratings_by_books = implicit_ratings.groupby(\"ISBN\")\n",
    "\n",
    "def recommend_books_for_book(book_ISBN, top_n=5):\n",
    "    indices = ratings_by_books.groups[book_ISBN]\n",
    "    user_ids = implicit_ratings.loc[indices, 'User-ID'].values\n",
    "    return Counter(implicit_ratings[implicit_ratings['User-ID'].isin(user_ids)]['ISBN'].values).most_common(top_n)"
   ]
  },
  {
   "cell_type": "code",
   "execution_count": null,
   "id": "3c367c4b-6361-4fcd-b83b-d70c9d41321c",
   "metadata": {
    "scrolled": true
   },
   "outputs": [],
   "source": [
    "\n",
    "recommend_books_for_book('0971880107')"
   ]
  },
  {
   "cell_type": "code",
   "execution_count": null,
   "id": "539b4429-5fa8-4b9a-af91-c7a1416e2afb",
   "metadata": {},
   "outputs": [],
   "source": [
    "get_books_from_ids(['0971880107', '0316666343'], books_df)"
   ]
  },
  {
   "cell_type": "code",
   "execution_count": null,
   "id": "32247a4d-6863-48d1-8858-e9ff03e17af1",
   "metadata": {
    "scrolled": true
   },
   "outputs": [],
   "source": [
    "cProfile.run('get_hoods(books_df, implicit_ratings, max_iter=100)')"
   ]
  },
  {
   "cell_type": "markdown",
   "id": "c47eae14-a7da-4679-b975-1c78440d3fda",
   "metadata": {},
   "source": [
    "# Explicit ratings"
   ]
  },
  {
   "cell_type": "code",
   "execution_count": null,
   "id": "f39e3d0e-bdce-44f5-a49e-91aa587c8a38",
   "metadata": {},
   "outputs": [],
   "source": [
    "ratings_df[ratings_df['Book-Rating'] != 0]"
   ]
  },
  {
   "cell_type": "code",
   "execution_count": null,
   "id": "3d349b06-db91-4f37-a93e-4a2269f48fce",
   "metadata": {},
   "outputs": [],
   "source": [
    "ratings_df[ratings_df['Book-Rating'] == 0]"
   ]
  },
  {
   "cell_type": "markdown",
   "id": "e2180bc3-928b-4e15-9f3d-671eae8b12f1",
   "metadata": {},
   "source": [
    "there's enough explicit ratings to be important\n",
    "merge implicit and explicit ratings"
   ]
  },
  {
   "cell_type": "code",
   "execution_count": null,
   "id": "81f344d0-4d30-4e5e-84ff-036597fce53a",
   "metadata": {},
   "outputs": [],
   "source": [
    "import json\n"
   ]
  },
  {
   "cell_type": "code",
   "execution_count": null,
   "id": "8a6ade32-1a28-4f44-a703-9a992b193dca",
   "metadata": {},
   "outputs": [],
   "source": [
    "json.loads({})"
   ]
  },
  {
   "cell_type": "markdown",
   "id": "13cd014d-e644-4ea4-9353-aee68098b104",
   "metadata": {},
   "source": [
    "# Generalized matrix factorization"
   ]
  },
  {
   "cell_type": "code",
   "execution_count": null,
   "id": "fa443f16-96ef-48a4-8466-61a781c364b3",
   "metadata": {},
   "outputs": [],
   "source": [
    "import torch\n",
    "import torch.nn as nn"
   ]
  },
  {
   "cell_type": "code",
   "execution_count": 105,
   "id": "538fed7f-9289-4f0d-bd03-8d14b400c80d",
   "metadata": {
    "execution": {
     "iopub.execute_input": "2025-05-12T11:51:56.169158Z",
     "iopub.status.busy": "2025-05-12T11:51:56.168531Z",
     "iopub.status.idle": "2025-05-12T11:51:56.187944Z",
     "shell.execute_reply": "2025-05-12T11:51:56.187006Z",
     "shell.execute_reply.started": "2025-05-12T11:51:56.169135Z"
    }
   },
   "outputs": [
    {
     "ename": "NameError",
     "evalue": "name 'nn' is not defined",
     "output_type": "error",
     "traceback": [
      "\u001b[0;31m---------------------------------------------------------------------------\u001b[0m",
      "\u001b[0;31mNameError\u001b[0m                                 Traceback (most recent call last)",
      "Cell \u001b[0;32mIn[105], line 1\u001b[0m\n\u001b[0;32m----> 1\u001b[0m \u001b[38;5;28;01mclass\u001b[39;00m\u001b[38;5;250m \u001b[39m\u001b[38;5;21;01mGMF\u001b[39;00m(\u001b[43mnn\u001b[49m\u001b[38;5;241m.\u001b[39mModule):\n\u001b[1;32m      3\u001b[0m     \u001b[38;5;28;01mdef\u001b[39;00m\u001b[38;5;250m \u001b[39m\u001b[38;5;21m__init__\u001b[39m(\u001b[38;5;28mself\u001b[39m):\n\u001b[1;32m      4\u001b[0m         \u001b[38;5;28msuper\u001b[39m()\u001b[38;5;241m.\u001b[39m\u001b[38;5;21m__init__\u001b[39m()\n",
      "\u001b[0;31mNameError\u001b[0m: name 'nn' is not defined"
     ]
    }
   ],
   "source": [
    "class GMF(nn.Module):\n",
    "\n",
    "    def __init__(self):\n",
    "        super().__init__()\n",
    "        # consists of basically two lookup tables\n",
    "        # as matrix factorization is a factorization into two parts\n",
    "        # user - preferences"
   ]
  },
  {
   "cell_type": "code",
   "execution_count": 106,
   "id": "c4252fca-adbd-4a54-8edb-7be6b399f1d5",
   "metadata": {
    "execution": {
     "iopub.execute_input": "2025-05-12T11:52:31.218172Z",
     "iopub.status.busy": "2025-05-12T11:52:31.217596Z",
     "iopub.status.idle": "2025-05-12T11:52:31.221087Z",
     "shell.execute_reply": "2025-05-12T11:52:31.220476Z",
     "shell.execute_reply.started": "2025-05-12T11:52:31.218149Z"
    }
   },
   "outputs": [],
   "source": [
    "# for this approach we would need to authenticate our users and store their profiles\n",
    "# not suitable for item based approach"
   ]
  },
  {
   "cell_type": "code",
   "execution_count": null,
   "id": "6f9bcac8-311e-47a8-9a4b-b275b5e8be05",
   "metadata": {},
   "outputs": [],
   "source": []
  }
 ],
 "metadata": {
  "kernelspec": {
   "display_name": "Python 3 (ipykernel)",
   "language": "python",
   "name": "python3"
  },
  "language_info": {
   "codemirror_mode": {
    "name": "ipython",
    "version": 3
   },
   "file_extension": ".py",
   "mimetype": "text/x-python",
   "name": "python",
   "nbconvert_exporter": "python",
   "pygments_lexer": "ipython3",
   "version": "3.11.2"
  }
 },
 "nbformat": 4,
 "nbformat_minor": 5
}
